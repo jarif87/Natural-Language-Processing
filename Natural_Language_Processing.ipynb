{
  "nbformat": 4,
  "nbformat_minor": 0,
  "metadata": {
    "colab": {
      "provenance": []
    },
    "kernelspec": {
      "name": "python3",
      "display_name": "Python 3"
    },
    "language_info": {
      "name": "python"
    }
  },
  "cells": [
    {
      "cell_type": "code",
      "execution_count": 36,
      "metadata": {
        "id": "8sj0e7y2Ll95"
      },
      "outputs": [],
      "source": [
        "import nltk\n",
        "import re\n",
        "import string"
      ]
    },
    {
      "cell_type": "markdown",
      "source": [
        "# text lowercase"
      ],
      "metadata": {
        "id": "_9pSTnEDMoXX"
      }
    },
    {
      "cell_type": "code",
      "source": [
        "def lower_text(text):\n",
        "  return text.lower()\n",
        "\n",
        "input_str=\"Bouvet was a pre-dreadnought battleship of the French Navy, built in the 1890s, and armed with a main battery of two 305 mm (12 in) guns and two 274 mm (10.8 in) guns in individual turrets. A top speed of 18 knots (33 km/h; 21 mph) made her one of the fastest battleships in the world. Bouvet spent the majority of her peacetime career conducting routine training exercises and was withdrawn from front-line service in 1907. In early 1915 during World War I the ship participated in a series of attacks on the Ottoman fortifications guarding the Dardanelles. On 18 March 1915, during a major assault, the vessel was hit approximately eight times by shellfire but was not seriously damaged. While turning to withdraw, she struck a mine and sank within two minutes; only 75 men were rescued from a complement of 718. Two British battleships were also sunk by mines the same day, and the disaster convinced the Allies to abandon the naval campaign in favor of an amphibious\""
      ],
      "metadata": {
        "id": "pnlA9WqvLpXK"
      },
      "execution_count": 37,
      "outputs": []
    },
    {
      "cell_type": "code",
      "source": [
        "lower_text(input_str)"
      ],
      "metadata": {
        "colab": {
          "base_uri": "https://localhost:8080/",
          "height": 157
        },
        "id": "s_iA5go8LpaU",
        "outputId": "3955ca69-0b24-49da-a4e2-02d25b45940a"
      },
      "execution_count": 38,
      "outputs": [
        {
          "output_type": "execute_result",
          "data": {
            "text/plain": [
              "'bouvet was a pre-dreadnought battleship of the french navy, built in the 1890s, and armed with a main battery of two 305 mm (12 in) guns and two 274 mm (10.8 in) guns in individual turrets. a top speed of 18 knots (33 km/h; 21 mph) made her one of the fastest battleships in the world. bouvet spent the majority of her peacetime career conducting routine training exercises and was withdrawn from front-line service in 1907. in early 1915 during world war i the ship participated in a series of attacks on the ottoman fortifications guarding the dardanelles. on 18 march 1915, during a major assault, the vessel was hit approximately eight times by shellfire but was not seriously damaged. while turning to withdraw, she struck a mine and sank within two minutes; only 75 men were rescued from a complement of 718. two british battleships were also sunk by mines the same day, and the disaster convinced the allies to abandon the naval campaign in favor of an amphibious'"
            ],
            "application/vnd.google.colaboratory.intrinsic+json": {
              "type": "string"
            }
          },
          "metadata": {},
          "execution_count": 38
        }
      ]
    },
    {
      "cell_type": "markdown",
      "source": [
        "# remove numbers"
      ],
      "metadata": {
        "id": "tNSC8O9rMrO7"
      }
    },
    {
      "cell_type": "code",
      "source": [
        "def remove_num(text):\n",
        "  result=re.sub(r\"\\d+\",\"\",text)\n",
        "  return result"
      ],
      "metadata": {
        "id": "1q5_-zMDLpdY"
      },
      "execution_count": 39,
      "outputs": []
    },
    {
      "cell_type": "code",
      "source": [
        "remove_num(input_str)"
      ],
      "metadata": {
        "colab": {
          "base_uri": "https://localhost:8080/",
          "height": 157
        },
        "id": "pOg53M4VLpgl",
        "outputId": "b9b278fa-11f8-4f3a-b36c-ab20681661ad"
      },
      "execution_count": 40,
      "outputs": [
        {
          "output_type": "execute_result",
          "data": {
            "text/plain": [
              "'Bouvet was a pre-dreadnought battleship of the French Navy, built in the s, and armed with a main battery of two  mm ( in) guns and two  mm (. in) guns in individual turrets. A top speed of  knots ( km/h;  mph) made her one of the fastest battleships in the world. Bouvet spent the majority of her peacetime career conducting routine training exercises and was withdrawn from front-line service in . In early  during World War I the ship participated in a series of attacks on the Ottoman fortifications guarding the Dardanelles. On  March , during a major assault, the vessel was hit approximately eight times by shellfire but was not seriously damaged. While turning to withdraw, she struck a mine and sank within two minutes; only  men were rescued from a complement of . Two British battleships were also sunk by mines the same day, and the disaster convinced the Allies to abandon the naval campaign in favor of an amphibious'"
            ],
            "application/vnd.google.colaboratory.intrinsic+json": {
              "type": "string"
            }
          },
          "metadata": {},
          "execution_count": 40
        }
      ]
    },
    {
      "cell_type": "markdown",
      "source": [
        "# remove punction\n"
      ],
      "metadata": {
        "id": "_aIHLgUBN8yO"
      }
    },
    {
      "cell_type": "code",
      "source": [
        "\n",
        "def punctuation(text):\n",
        "  translator=str.maketrans(\"\",\"\",string.punctuation)\n",
        "  return text.translate(translator)\n",
        "new_str=\"The sun set behind the mountains, casting a warm, golden glow over the tranquil lake; meanwhile, a gentle breeze rustled the leaves, creating a serene symphony of nature.\""
      ],
      "metadata": {
        "id": "g9tVsxh4Lpjs"
      },
      "execution_count": 41,
      "outputs": []
    },
    {
      "cell_type": "code",
      "source": [
        "punctuation(new_str)"
      ],
      "metadata": {
        "colab": {
          "base_uri": "https://localhost:8080/",
          "height": 53
        },
        "id": "Y0X0KuJjLpnH",
        "outputId": "b961293d-c139-4fea-837d-a99f42f86e77"
      },
      "execution_count": 42,
      "outputs": [
        {
          "output_type": "execute_result",
          "data": {
            "text/plain": [
              "'The sun set behind the mountains casting a warm golden glow over the tranquil lake meanwhile a gentle breeze rustled the leaves creating a serene symphony of nature'"
            ],
            "application/vnd.google.colaboratory.intrinsic+json": {
              "type": "string"
            }
          },
          "metadata": {},
          "execution_count": 42
        }
      ]
    },
    {
      "cell_type": "markdown",
      "source": [
        "# remove stopwords"
      ],
      "metadata": {
        "id": "--lNchRFO6pU"
      }
    },
    {
      "cell_type": "code",
      "source": [
        "import nltk\n",
        "nltk.download('stopwords')\n",
        "nltk.download(\"punkt\")"
      ],
      "metadata": {
        "colab": {
          "base_uri": "https://localhost:8080/"
        },
        "id": "IDO2OzdpPY7X",
        "outputId": "b9873e1a-8109-445c-81d7-d3b5bae12f2d"
      },
      "execution_count": 43,
      "outputs": [
        {
          "output_type": "stream",
          "name": "stderr",
          "text": [
            "[nltk_data] Downloading package stopwords to /root/nltk_data...\n",
            "[nltk_data]   Package stopwords is already up-to-date!\n",
            "[nltk_data] Downloading package punkt to /root/nltk_data...\n",
            "[nltk_data]   Package punkt is already up-to-date!\n"
          ]
        },
        {
          "output_type": "execute_result",
          "data": {
            "text/plain": [
              "True"
            ]
          },
          "metadata": {},
          "execution_count": 43
        }
      ]
    },
    {
      "cell_type": "code",
      "source": [
        "from nltk.corpus import stopwords\n",
        "from nltk.tokenize import word_tokenize\n",
        "stop_words=set(stopwords.words(\"english\"))\n",
        "print(stop_words)"
      ],
      "metadata": {
        "colab": {
          "base_uri": "https://localhost:8080/"
        },
        "id": "xzUz5-5iLpqv",
        "outputId": "6a787174-8ff7-4714-9cb7-f268a83007b5"
      },
      "execution_count": 44,
      "outputs": [
        {
          "output_type": "stream",
          "name": "stdout",
          "text": [
            "{\"needn't\", 'he', 'won', 'her', 'up', 'above', 'over', 'y', 'in', 'what', 'than', 'here', 'when', 'ain', 'only', 'don', 'him', 'very', 's', 'haven', 'for', \"shouldn't\", 'my', 'at', 'through', 'wasn', 'yourself', 'too', 'below', 'against', 'whom', 'been', 'that', 'is', 'where', 'just', 'herself', 'i', 'being', \"couldn't\", 'then', 'after', 'yourselves', 'yours', 'some', \"didn't\", 'but', \"wasn't\", \"wouldn't\", 'other', 'are', 'we', 'his', 'to', 'should', 'down', 'such', 'by', 'who', 'while', 'not', 'your', 'had', \"mustn't\", 'nor', \"you'll\", 'has', 'was', 'on', 'will', \"isn't\", 'from', 'off', \"hasn't\", 'theirs', 'am', 't', 'isn', 'until', 'so', 'wouldn', 'if', 'each', 'them', 'more', 'again', 'having', 'hers', 'all', 'its', 'mightn', 'mustn', 'themselves', 'it', 'their', 'hadn', 'which', 'shouldn', 'doing', \"she's\", 'did', \"it's\", 'm', 'under', 'couldn', \"that'll\", 'needn', 'aren', \"mightn't\", 'out', 'hasn', 'why', 'an', \"you're\", 'they', 'own', 'o', 'me', 'those', 'do', \"should've\", 'how', 'with', 'about', 'further', 'didn', \"you've\", 'or', 'be', \"don't\", 'both', 'll', 'into', 'same', \"doesn't\", 'once', 'd', 'does', 'these', 'the', 'during', 'few', \"weren't\", 'because', 'doesn', 'before', 'this', 'between', \"you'd\", 'most', 've', 'our', 'no', \"won't\", 'myself', 'ma', 'as', 'she', 'weren', 're', 'were', 'itself', \"aren't\", \"hadn't\", 'can', 'any', 'you', 'himself', \"haven't\", 'have', 'of', 'there', 'a', 'shan', 'ourselves', \"shan't\", 'and', 'ours', 'now'}\n"
          ]
        }
      ]
    },
    {
      "cell_type": "code",
      "source": [
        "new_str=\"While walking through the bustling city, she couldn't help but notice the vibrant colors of the market stalls, each offering a variety of goods and services.\""
      ],
      "metadata": {
        "id": "ZzmM-7OiQ3_J"
      },
      "execution_count": 45,
      "outputs": []
    },
    {
      "cell_type": "code",
      "source": [
        "def remove_stop(text):\n",
        "  stop_words=set(stopwords.words(\"english\"))\n",
        "  word_tokenizer=word_tokenize(text)\n",
        "  filter_text=[words for words in word_tokenizer if words not in stop_words]\n",
        "  return filter_text\n",
        "remove_stop(new_str)"
      ],
      "metadata": {
        "colab": {
          "base_uri": "https://localhost:8080/"
        },
        "id": "0UR7zAwkPF0X",
        "outputId": "048403d4-d512-4902-deca-b09e3958cdb5"
      },
      "execution_count": 46,
      "outputs": [
        {
          "output_type": "execute_result",
          "data": {
            "text/plain": [
              "['While',\n",
              " 'walking',\n",
              " 'bustling',\n",
              " 'city',\n",
              " ',',\n",
              " 'could',\n",
              " \"n't\",\n",
              " 'help',\n",
              " 'notice',\n",
              " 'vibrant',\n",
              " 'colors',\n",
              " 'market',\n",
              " 'stalls',\n",
              " ',',\n",
              " 'offering',\n",
              " 'variety',\n",
              " 'goods',\n",
              " 'services',\n",
              " '.']"
            ]
          },
          "metadata": {},
          "execution_count": 46
        }
      ]
    },
    {
      "cell_type": "markdown",
      "source": [
        "Regex"
      ],
      "metadata": {
        "id": "jpHXPEEZYHln"
      }
    },
    {
      "cell_type": "code",
      "source": [
        "new_str=\"After carefully applying a regular expression, the program successfully extracted all the email addresses from the given dataset.\""
      ],
      "metadata": {
        "id": "7DRsbOZLPF3c"
      },
      "execution_count": 47,
      "outputs": []
    },
    {
      "cell_type": "code",
      "source": [
        "new=\"i love python 89 hi 12\"\n",
        "lists=[\"bangla\",\"math\",\"english\",\"icecream images\"]"
      ],
      "metadata": {
        "id": "TYAWkZPAZ2-w"
      },
      "execution_count": 52,
      "outputs": []
    },
    {
      "cell_type": "code",
      "source": [
        "mat=re.search(\"i\",new)\n",
        "if mat:\n",
        "  print(\"found\")\n",
        "else:\n",
        "  print(\"not found\")"
      ],
      "metadata": {
        "colab": {
          "base_uri": "https://localhost:8080/"
        },
        "id": "W4VkSmoSPF7C",
        "outputId": "c37bd396-fe24-47fc-d326-5d5178add72d"
      },
      "execution_count": 49,
      "outputs": [
        {
          "output_type": "stream",
          "name": "stdout",
          "text": [
            "found\n"
          ]
        }
      ]
    },
    {
      "cell_type": "code",
      "source": [
        "pattern=\"\\d+\"\n",
        "res=re.findall(pattern,new)\n",
        "res"
      ],
      "metadata": {
        "colab": {
          "base_uri": "https://localhost:8080/"
        },
        "id": "_H6Lzv9QPF_G",
        "outputId": "e9675773-01a3-4d30-801e-5bb256fa5894"
      },
      "execution_count": 50,
      "outputs": [
        {
          "output_type": "execute_result",
          "data": {
            "text/plain": [
              "['89', '12']"
            ]
          },
          "metadata": {},
          "execution_count": 50
        }
      ]
    },
    {
      "cell_type": "code",
      "source": [
        "for i in lists:\n",
        "  q=re.match(\"(i\\w+)\\W(i\\w+)\",i)\n",
        "\n",
        "  if q:\n",
        "    print((q.group()))"
      ],
      "metadata": {
        "colab": {
          "base_uri": "https://localhost:8080/"
        },
        "id": "f00tfmFZPGB8",
        "outputId": "2c547687-5a0a-4d48-fdef-3acff1217493"
      },
      "execution_count": 54,
      "outputs": [
        {
          "output_type": "stream",
          "name": "stdout",
          "text": [
            "icecream images\n"
          ]
        }
      ]
    },
    {
      "cell_type": "markdown",
      "source": [
        "# reference\n",
        "https://youtu.be/sd6cvHJHzJo?si=kPpxqf7lOWkYp9LM"
      ],
      "metadata": {
        "id": "_S4aybmmb6Mx"
      }
    },
    {
      "cell_type": "code",
      "source": [],
      "metadata": {
        "id": "IqStER5Xb52b"
      },
      "execution_count": null,
      "outputs": []
    }
  ]
}